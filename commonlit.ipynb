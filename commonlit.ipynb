{
 "cells": [
  {
   "cell_type": "code",
   "execution_count": 1,
   "id": "alternative-mitchell",
   "metadata": {
    "_cell_guid": "b1076dfc-b9ad-4769-8c92-a6c4dae69d19",
    "_uuid": "8f2839f25d086af736a60e9eeb907d3b93b6e0e5",
    "execution": {
     "iopub.execute_input": "2021-05-07T20:23:57.540383Z",
     "iopub.status.busy": "2021-05-07T20:23:57.539202Z",
     "iopub.status.idle": "2021-05-07T20:23:59.431594Z",
     "shell.execute_reply": "2021-05-07T20:23:59.430919Z"
    },
    "papermill": {
     "duration": 1.909852,
     "end_time": "2021-05-07T20:23:59.431758",
     "exception": false,
     "start_time": "2021-05-07T20:23:57.521906",
     "status": "completed"
    },
    "tags": []
   },
   "outputs": [
    {
     "name": "stdout",
     "output_type": "stream",
     "text": [
      "/kaggle/input/commonlitreadabilityprize/sample_submission.csv\n",
      "/kaggle/input/commonlitreadabilityprize/train.csv\n",
      "/kaggle/input/commonlitreadabilityprize/test.csv\n"
     ]
    }
   ],
   "source": [
    "from nltk.corpus import stopwords\n",
    "from nltk.stem.porter import PorterStemmer\n",
    "import numpy as np # linear algebra\n",
    "import pandas as pd # data processing, CSV file I/O (e.g. pd.read_csv)\n",
    "import re \n",
    "import xgboost as xgb\n",
    "from sklearn.feature_extraction.text import TfidfVectorizer\n",
    "from sklearn.ensemble import RandomForestRegressor\n",
    "from sklearn.model_selection import RandomizedSearchCV\n",
    "from sklearn.exceptions import FitFailedWarning\n",
    "from sklearn.model_selection import cross_val_score\n",
    "import warnings\n",
    "import os\n",
    "\n",
    "for dirname, _, filenames in os.walk('/kaggle/input'):\n",
    "    for filename in filenames:\n",
    "        print(os.path.join(dirname, filename))\n"
   ]
  },
  {
   "cell_type": "code",
   "execution_count": 2,
   "id": "compound-arthur",
   "metadata": {
    "execution": {
     "iopub.execute_input": "2021-05-07T20:23:59.463347Z",
     "iopub.status.busy": "2021-05-07T20:23:59.462733Z",
     "iopub.status.idle": "2021-05-07T20:23:59.554571Z",
     "shell.execute_reply": "2021-05-07T20:23:59.554018Z"
    },
    "papermill": {
     "duration": 0.109287,
     "end_time": "2021-05-07T20:23:59.554725",
     "exception": false,
     "start_time": "2021-05-07T20:23:59.445438",
     "status": "completed"
    },
    "tags": []
   },
   "outputs": [],
   "source": [
    "train_df = pd.read_csv('/kaggle/input/commonlitreadabilityprize/train.csv')\n",
    "test_df = pd.read_csv('/kaggle/input/commonlitreadabilityprize/test.csv')\n",
    "ps = PorterStemmer()"
   ]
  },
  {
   "cell_type": "code",
   "execution_count": 3,
   "id": "democratic-toner",
   "metadata": {
    "execution": {
     "iopub.execute_input": "2021-05-07T20:23:59.597458Z",
     "iopub.status.busy": "2021-05-07T20:23:59.596789Z",
     "iopub.status.idle": "2021-05-07T20:23:59.598761Z",
     "shell.execute_reply": "2021-05-07T20:23:59.599246Z"
    },
    "papermill": {
     "duration": 0.031355,
     "end_time": "2021-05-07T20:23:59.599420",
     "exception": false,
     "start_time": "2021-05-07T20:23:59.568065",
     "status": "completed"
    },
    "tags": []
   },
   "outputs": [],
   "source": [
    "train_df.drop(['url_legal', 'license'], axis=1, inplace=True)\n",
    "test_df.drop(['url_legal', 'license'], axis=1, inplace=True)"
   ]
  },
  {
   "cell_type": "code",
   "execution_count": 4,
   "id": "cardiovascular-refund",
   "metadata": {
    "execution": {
     "iopub.execute_input": "2021-05-07T20:23:59.629152Z",
     "iopub.status.busy": "2021-05-07T20:23:59.628545Z",
     "iopub.status.idle": "2021-05-07T20:23:59.634234Z",
     "shell.execute_reply": "2021-05-07T20:23:59.633722Z"
    },
    "papermill": {
     "duration": 0.021419,
     "end_time": "2021-05-07T20:23:59.634361",
     "exception": false,
     "start_time": "2021-05-07T20:23:59.612942",
     "status": "completed"
    },
    "tags": []
   },
   "outputs": [],
   "source": [
    "def cleanup(text):\n",
    "    clean_text = re.sub('[^a-zA-Z]', ' ', text)\n",
    "    clean_text = clean_text.lower()\n",
    "    clean_text = clean_text.split()\n",
    "    clean_text = (ps.stem(word) for word in clean_text if not word in stopwords.words('english'))   \n",
    "    clean_text = ' '.join(clean_text)\n",
    "    return clean_text"
   ]
  },
  {
   "cell_type": "code",
   "execution_count": 5,
   "id": "front-romantic",
   "metadata": {
    "execution": {
     "iopub.execute_input": "2021-05-07T20:23:59.671722Z",
     "iopub.status.busy": "2021-05-07T20:23:59.670952Z",
     "iopub.status.idle": "2021-05-07T20:23:59.689601Z",
     "shell.execute_reply": "2021-05-07T20:23:59.690069Z"
    },
    "papermill": {
     "duration": 0.042579,
     "end_time": "2021-05-07T20:23:59.690251",
     "exception": false,
     "start_time": "2021-05-07T20:23:59.647672",
     "status": "completed"
    },
    "tags": []
   },
   "outputs": [
    {
     "data": {
      "text/html": [
       "<div>\n",
       "<style scoped>\n",
       "    .dataframe tbody tr th:only-of-type {\n",
       "        vertical-align: middle;\n",
       "    }\n",
       "\n",
       "    .dataframe tbody tr th {\n",
       "        vertical-align: top;\n",
       "    }\n",
       "\n",
       "    .dataframe thead th {\n",
       "        text-align: right;\n",
       "    }\n",
       "</style>\n",
       "<table border=\"1\" class=\"dataframe\">\n",
       "  <thead>\n",
       "    <tr style=\"text-align: right;\">\n",
       "      <th></th>\n",
       "      <th>id</th>\n",
       "      <th>excerpt</th>\n",
       "      <th>target</th>\n",
       "      <th>standard_error</th>\n",
       "    </tr>\n",
       "  </thead>\n",
       "  <tbody>\n",
       "    <tr>\n",
       "      <th>0</th>\n",
       "      <td>c12129c31</td>\n",
       "      <td>When the young people returned to the ballroom...</td>\n",
       "      <td>-0.340259</td>\n",
       "      <td>0.464009</td>\n",
       "    </tr>\n",
       "    <tr>\n",
       "      <th>1</th>\n",
       "      <td>85aa80a4c</td>\n",
       "      <td>All through dinner time, Mrs. Fayre was somewh...</td>\n",
       "      <td>-0.315372</td>\n",
       "      <td>0.480805</td>\n",
       "    </tr>\n",
       "    <tr>\n",
       "      <th>2</th>\n",
       "      <td>b69ac6792</td>\n",
       "      <td>As Roger had predicted, the snow departed as q...</td>\n",
       "      <td>-0.580118</td>\n",
       "      <td>0.476676</td>\n",
       "    </tr>\n",
       "    <tr>\n",
       "      <th>3</th>\n",
       "      <td>dd1000b26</td>\n",
       "      <td>And outside before the palace a great garden w...</td>\n",
       "      <td>-1.054013</td>\n",
       "      <td>0.450007</td>\n",
       "    </tr>\n",
       "    <tr>\n",
       "      <th>4</th>\n",
       "      <td>37c1b32fb</td>\n",
       "      <td>Once upon a time there were Three Bears who li...</td>\n",
       "      <td>0.247197</td>\n",
       "      <td>0.510845</td>\n",
       "    </tr>\n",
       "    <tr>\n",
       "      <th>...</th>\n",
       "      <td>...</td>\n",
       "      <td>...</td>\n",
       "      <td>...</td>\n",
       "      <td>...</td>\n",
       "    </tr>\n",
       "    <tr>\n",
       "      <th>2</th>\n",
       "      <td>0df072751</td>\n",
       "      <td>It was a bright and cheerful scene that greete...</td>\n",
       "      <td>NaN</td>\n",
       "      <td>NaN</td>\n",
       "    </tr>\n",
       "    <tr>\n",
       "      <th>3</th>\n",
       "      <td>04caf4e0c</td>\n",
       "      <td>Cell division is the process by which a parent...</td>\n",
       "      <td>NaN</td>\n",
       "      <td>NaN</td>\n",
       "    </tr>\n",
       "    <tr>\n",
       "      <th>4</th>\n",
       "      <td>0e63f8bea</td>\n",
       "      <td>Debugging is the process of finding and resolv...</td>\n",
       "      <td>NaN</td>\n",
       "      <td>NaN</td>\n",
       "    </tr>\n",
       "    <tr>\n",
       "      <th>5</th>\n",
       "      <td>12537fe78</td>\n",
       "      <td>To explain transitivity, let us look first at ...</td>\n",
       "      <td>NaN</td>\n",
       "      <td>NaN</td>\n",
       "    </tr>\n",
       "    <tr>\n",
       "      <th>6</th>\n",
       "      <td>965e592c0</td>\n",
       "      <td>Milka and John are playing in the garden. Her ...</td>\n",
       "      <td>NaN</td>\n",
       "      <td>NaN</td>\n",
       "    </tr>\n",
       "  </tbody>\n",
       "</table>\n",
       "<p>2841 rows × 4 columns</p>\n",
       "</div>"
      ],
      "text/plain": [
       "           id                                            excerpt    target  \\\n",
       "0   c12129c31  When the young people returned to the ballroom... -0.340259   \n",
       "1   85aa80a4c  All through dinner time, Mrs. Fayre was somewh... -0.315372   \n",
       "2   b69ac6792  As Roger had predicted, the snow departed as q... -0.580118   \n",
       "3   dd1000b26  And outside before the palace a great garden w... -1.054013   \n",
       "4   37c1b32fb  Once upon a time there were Three Bears who li...  0.247197   \n",
       "..        ...                                                ...       ...   \n",
       "2   0df072751  It was a bright and cheerful scene that greete...       NaN   \n",
       "3   04caf4e0c  Cell division is the process by which a parent...       NaN   \n",
       "4   0e63f8bea  Debugging is the process of finding and resolv...       NaN   \n",
       "5   12537fe78  To explain transitivity, let us look first at ...       NaN   \n",
       "6   965e592c0  Milka and John are playing in the garden. Her ...       NaN   \n",
       "\n",
       "    standard_error  \n",
       "0         0.464009  \n",
       "1         0.480805  \n",
       "2         0.476676  \n",
       "3         0.450007  \n",
       "4         0.510845  \n",
       "..             ...  \n",
       "2              NaN  \n",
       "3              NaN  \n",
       "4              NaN  \n",
       "5              NaN  \n",
       "6              NaN  \n",
       "\n",
       "[2841 rows x 4 columns]"
      ]
     },
     "execution_count": 5,
     "metadata": {},
     "output_type": "execute_result"
    }
   ],
   "source": [
    "combined = pd.concat([train_df, test_df])\n",
    "combined"
   ]
  },
  {
   "cell_type": "code",
   "execution_count": 6,
   "id": "neither-crazy",
   "metadata": {
    "execution": {
     "iopub.execute_input": "2021-05-07T20:23:59.722942Z",
     "iopub.status.busy": "2021-05-07T20:23:59.722007Z",
     "iopub.status.idle": "2021-05-07T20:25:11.616947Z",
     "shell.execute_reply": "2021-05-07T20:25:11.617550Z"
    },
    "papermill": {
     "duration": 71.913124,
     "end_time": "2021-05-07T20:25:11.617747",
     "exception": false,
     "start_time": "2021-05-07T20:23:59.704623",
     "status": "completed"
    },
    "tags": []
   },
   "outputs": [],
   "source": [
    "combined['excerpt'] = combined['excerpt'].apply(lambda x: cleanup(x))"
   ]
  },
  {
   "cell_type": "code",
   "execution_count": 7,
   "id": "signed-choice",
   "metadata": {
    "execution": {
     "iopub.execute_input": "2021-05-07T20:25:11.650911Z",
     "iopub.status.busy": "2021-05-07T20:25:11.649955Z",
     "iopub.status.idle": "2021-05-07T20:25:12.422626Z",
     "shell.execute_reply": "2021-05-07T20:25:12.423334Z"
    },
    "papermill": {
     "duration": 0.79064,
     "end_time": "2021-05-07T20:25:12.423513",
     "exception": false,
     "start_time": "2021-05-07T20:25:11.632873",
     "status": "completed"
    },
    "tags": []
   },
   "outputs": [],
   "source": [
    "tfidf = TfidfVectorizer()\n",
    "X = tfidf.fit_transform(combined['excerpt']).toarray()\n",
    "X_train = X[0:len(train_df)]\n",
    "X_test = X[len(train_df):]"
   ]
  },
  {
   "cell_type": "code",
   "execution_count": 8,
   "id": "continuous-humanity",
   "metadata": {
    "execution": {
     "iopub.execute_input": "2021-05-07T20:25:12.457386Z",
     "iopub.status.busy": "2021-05-07T20:25:12.456783Z",
     "iopub.status.idle": "2021-05-07T20:25:12.459739Z",
     "shell.execute_reply": "2021-05-07T20:25:12.459278Z"
    },
    "papermill": {
     "duration": 0.021723,
     "end_time": "2021-05-07T20:25:12.459867",
     "exception": false,
     "start_time": "2021-05-07T20:25:12.438144",
     "status": "completed"
    },
    "tags": []
   },
   "outputs": [],
   "source": [
    "y_train = train_df['target']"
   ]
  },
  {
   "cell_type": "code",
   "execution_count": 9,
   "id": "corrected-reality",
   "metadata": {
    "execution": {
     "iopub.execute_input": "2021-05-07T20:25:12.495017Z",
     "iopub.status.busy": "2021-05-07T20:25:12.494400Z",
     "iopub.status.idle": "2021-05-07T20:25:12.497054Z",
     "shell.execute_reply": "2021-05-07T20:25:12.497532Z"
    },
    "papermill": {
     "duration": 0.023325,
     "end_time": "2021-05-07T20:25:12.497740",
     "exception": false,
     "start_time": "2021-05-07T20:25:12.474415",
     "status": "completed"
    },
    "tags": []
   },
   "outputs": [],
   "source": [
    "params = {\n",
    "    'learning_rate': [0.05, 0.1, 0.15, 0.2, 0.25, 0.3],\n",
    "    'max_depth': [3, 4, 5, 6, 7, 8, 9],\n",
    "    'min_child_weight': [1, 3, 5, 7],\n",
    "    'gamma': [0, 0.1, 0.2, 0.3, 0.4],\n",
    "    'colsample_bytree': [0.3, 0.4, 0.5, 0.7],\n",
    "    'n_estimators': [100, 200, 300,400, 500, 600]\n",
    "}"
   ]
  },
  {
   "cell_type": "code",
   "execution_count": 10,
   "id": "rental-shape",
   "metadata": {
    "execution": {
     "iopub.execute_input": "2021-05-07T20:25:12.534509Z",
     "iopub.status.busy": "2021-05-07T20:25:12.533452Z",
     "iopub.status.idle": "2021-05-07T20:25:12.536733Z",
     "shell.execute_reply": "2021-05-07T20:25:12.536214Z"
    },
    "papermill": {
     "duration": 0.02456,
     "end_time": "2021-05-07T20:25:12.536878",
     "exception": false,
     "start_time": "2021-05-07T20:25:12.512318",
     "status": "completed"
    },
    "tags": []
   },
   "outputs": [],
   "source": [
    "reg = xgb.XGBRegressor(base_score=0.5, booster='gbtree', colsample_bylevel=1,\n",
    "             colsample_bynode=1, colsample_bytree=0.4, gamma=0.1, gpu_id=-1,\n",
    "             importance_type='gain', interaction_constraints='',\n",
    "             learning_rate=0.15, max_delta_step=0, max_depth=6,\n",
    "             min_child_weight=7, monotone_constraints='()',\n",
    "             n_estimators=600, n_jobs=4, num_parallel_tree=1, random_state=0,\n",
    "             reg_alpha=0, reg_lambda=1, scale_pos_weight=1, subsample=1,\n",
    "             tree_method='exact', validate_parameters=1, verbosity=None)"
   ]
  },
  {
   "cell_type": "code",
   "execution_count": 11,
   "id": "enabling-bacon",
   "metadata": {
    "execution": {
     "iopub.execute_input": "2021-05-07T20:25:12.572305Z",
     "iopub.status.busy": "2021-05-07T20:25:12.571339Z",
     "iopub.status.idle": "2021-05-07T20:25:12.573745Z",
     "shell.execute_reply": "2021-05-07T20:25:12.574194Z"
    },
    "papermill": {
     "duration": 0.022038,
     "end_time": "2021-05-07T20:25:12.574357",
     "exception": false,
     "start_time": "2021-05-07T20:25:12.552319",
     "status": "completed"
    },
    "tags": []
   },
   "outputs": [],
   "source": [
    "random_search = RandomizedSearchCV(reg, param_distributions=params, n_iter=5, scoring='roc_auc')"
   ]
  },
  {
   "cell_type": "code",
   "execution_count": 12,
   "id": "automated-slovenia",
   "metadata": {
    "execution": {
     "iopub.execute_input": "2021-05-07T20:25:12.612544Z",
     "iopub.status.busy": "2021-05-07T20:25:12.610981Z",
     "iopub.status.idle": "2021-05-07T21:11:54.111795Z",
     "shell.execute_reply": "2021-05-07T21:11:54.112352Z"
    },
    "papermill": {
     "duration": 2801.523216,
     "end_time": "2021-05-07T21:11:54.112560",
     "exception": false,
     "start_time": "2021-05-07T20:25:12.589344",
     "status": "completed"
    },
    "tags": []
   },
   "outputs": [
    {
     "name": "stdout",
     "output_type": "stream",
     "text": [
      "UserWarning('One or more of the test scores are non-finite: [nan nan nan nan nan]')\n"
     ]
    }
   ],
   "source": [
    "with warnings.catch_warnings(record=True) as w:\n",
    "    try:\n",
    "        random_search.fit(X_train, y_train) \n",
    "    except ValueError:\n",
    "        pass\n",
    "    print(repr(w[-1].message))"
   ]
  },
  {
   "cell_type": "code",
   "execution_count": 13,
   "id": "suspected-sauce",
   "metadata": {
    "execution": {
     "iopub.execute_input": "2021-05-07T21:11:54.150387Z",
     "iopub.status.busy": "2021-05-07T21:11:54.149348Z",
     "iopub.status.idle": "2021-05-07T21:11:54.159953Z",
     "shell.execute_reply": "2021-05-07T21:11:54.160430Z"
    },
    "papermill": {
     "duration": 0.032183,
     "end_time": "2021-05-07T21:11:54.160639",
     "exception": false,
     "start_time": "2021-05-07T21:11:54.128456",
     "status": "completed"
    },
    "tags": []
   },
   "outputs": [
    {
     "data": {
      "text/plain": [
       "XGBRegressor(base_score=0.5, booster='gbtree', colsample_bylevel=1,\n",
       "             colsample_bynode=1, colsample_bytree=0.3, gamma=0.2, gpu_id=-1,\n",
       "             importance_type='gain', interaction_constraints='',\n",
       "             learning_rate=0.1, max_delta_step=0, max_depth=9,\n",
       "             min_child_weight=5, missing=nan, monotone_constraints='()',\n",
       "             n_estimators=400, n_jobs=4, num_parallel_tree=1, random_state=0,\n",
       "             reg_alpha=0, reg_lambda=1, scale_pos_weight=1, subsample=1,\n",
       "             tree_method='exact', validate_parameters=1, verbosity=None)"
      ]
     },
     "execution_count": 13,
     "metadata": {},
     "output_type": "execute_result"
    }
   ],
   "source": [
    "random_search.best_estimator_"
   ]
  },
  {
   "cell_type": "code",
   "execution_count": 14,
   "id": "labeled-campaign",
   "metadata": {
    "execution": {
     "iopub.execute_input": "2021-05-07T21:11:54.198027Z",
     "iopub.status.busy": "2021-05-07T21:11:54.196968Z",
     "iopub.status.idle": "2021-05-07T21:25:26.967918Z",
     "shell.execute_reply": "2021-05-07T21:25:26.968480Z"
    },
    "papermill": {
     "duration": 812.791543,
     "end_time": "2021-05-07T21:25:26.968699",
     "exception": false,
     "start_time": "2021-05-07T21:11:54.177156",
     "status": "completed"
    },
    "tags": []
   },
   "outputs": [
    {
     "data": {
      "text/plain": [
       "array([0.19685044, 0.06439059, 0.19178856, 0.47074367, 0.28955276])"
      ]
     },
     "execution_count": 14,
     "metadata": {},
     "output_type": "execute_result"
    }
   ],
   "source": [
    "score = cross_val_score(reg, X_train, y_train)\n",
    "score"
   ]
  },
  {
   "cell_type": "code",
   "execution_count": 15,
   "id": "colored-access",
   "metadata": {
    "execution": {
     "iopub.execute_input": "2021-05-07T21:25:27.009303Z",
     "iopub.status.busy": "2021-05-07T21:25:27.007818Z",
     "iopub.status.idle": "2021-05-07T21:28:47.208609Z",
     "shell.execute_reply": "2021-05-07T21:28:47.209141Z"
    },
    "papermill": {
     "duration": 200.223948,
     "end_time": "2021-05-07T21:28:47.209350",
     "exception": false,
     "start_time": "2021-05-07T21:25:26.985402",
     "status": "completed"
    },
    "tags": []
   },
   "outputs": [
    {
     "data": {
      "text/plain": [
       "XGBRegressor(base_score=0.5, booster='gbtree', colsample_bylevel=1,\n",
       "             colsample_bynode=1, colsample_bytree=0.4, gamma=0.1, gpu_id=-1,\n",
       "             importance_type='gain', interaction_constraints='',\n",
       "             learning_rate=0.15, max_delta_step=0, max_depth=6,\n",
       "             min_child_weight=7, missing=nan, monotone_constraints='()',\n",
       "             n_estimators=600, n_jobs=4, num_parallel_tree=1, random_state=0,\n",
       "             reg_alpha=0, reg_lambda=1, scale_pos_weight=1, subsample=1,\n",
       "             tree_method='exact', validate_parameters=1, verbosity=None)"
      ]
     },
     "execution_count": 15,
     "metadata": {},
     "output_type": "execute_result"
    }
   ],
   "source": [
    "reg.fit(X_train, y_train)"
   ]
  },
  {
   "cell_type": "code",
   "execution_count": 16,
   "id": "extraordinary-sphere",
   "metadata": {
    "execution": {
     "iopub.execute_input": "2021-05-07T21:28:47.250053Z",
     "iopub.status.busy": "2021-05-07T21:28:47.249374Z",
     "iopub.status.idle": "2021-05-07T21:28:47.269346Z",
     "shell.execute_reply": "2021-05-07T21:28:47.269928Z"
    },
    "papermill": {
     "duration": 0.043364,
     "end_time": "2021-05-07T21:28:47.270184",
     "exception": false,
     "start_time": "2021-05-07T21:28:47.226820",
     "status": "completed"
    },
    "tags": []
   },
   "outputs": [
    {
     "data": {
      "text/plain": [
       "array([-1.1235982 , -0.9508646 , -0.86197066, -1.2228249 , -1.8451799 ,\n",
       "       -0.9843696 , -0.08290811], dtype=float32)"
      ]
     },
     "execution_count": 16,
     "metadata": {},
     "output_type": "execute_result"
    }
   ],
   "source": [
    "pred = reg.predict(X_test)\n",
    "pred"
   ]
  },
  {
   "cell_type": "code",
   "execution_count": 17,
   "id": "fewer-button",
   "metadata": {
    "execution": {
     "iopub.execute_input": "2021-05-07T21:28:47.318041Z",
     "iopub.status.busy": "2021-05-07T21:28:47.317361Z",
     "iopub.status.idle": "2021-05-07T21:28:47.323568Z",
     "shell.execute_reply": "2021-05-07T21:28:47.324053Z"
    },
    "papermill": {
     "duration": 0.034651,
     "end_time": "2021-05-07T21:28:47.324265",
     "exception": false,
     "start_time": "2021-05-07T21:28:47.289614",
     "status": "completed"
    },
    "tags": []
   },
   "outputs": [],
   "source": [
    "sub = pd.DataFrame(columns=['id', 'target'])\n",
    "sub['id'] = test_df['id']\n",
    "sub['target'] = pred\n",
    "sub.to_csv('submission.csv', index=False)"
   ]
  },
  {
   "cell_type": "code",
   "execution_count": null,
   "id": "brazilian-botswana",
   "metadata": {
    "papermill": {
     "duration": 0.018063,
     "end_time": "2021-05-07T21:28:47.360980",
     "exception": false,
     "start_time": "2021-05-07T21:28:47.342917",
     "status": "completed"
    },
    "tags": []
   },
   "outputs": [],
   "source": []
  }
 ],
 "metadata": {
  "kernelspec": {
   "display_name": "Python 3",
   "language": "python",
   "name": "python3"
  },
  "language_info": {
   "codemirror_mode": {
    "name": "ipython",
    "version": 3
   },
   "file_extension": ".py",
   "mimetype": "text/x-python",
   "name": "python",
   "nbconvert_exporter": "python",
   "pygments_lexer": "ipython3",
   "version": "3.7.10"
  },
  "papermill": {
   "default_parameters": {},
   "duration": 3899.077016,
   "end_time": "2021-05-07T21:28:48.667898",
   "environment_variables": {},
   "exception": null,
   "input_path": "__notebook__.ipynb",
   "output_path": "__notebook__.ipynb",
   "parameters": {},
   "start_time": "2021-05-07T20:23:49.590882",
   "version": "2.3.3"
  }
 },
 "nbformat": 4,
 "nbformat_minor": 5
}
